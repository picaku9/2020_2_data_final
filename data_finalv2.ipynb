{
  "nbformat": 4,
  "nbformat_minor": 0,
  "metadata": {
    "colab": {
      "name": "data_final.ipynb의 사본",
      "provenance": [],
      "collapsed_sections": [],
      "toc_visible": true
    },
    "kernelspec": {
      "name": "python3",
      "display_name": "Python 3"
    }
  },
  "cells": [
    {
      "cell_type": "markdown",
      "metadata": {
        "id": "iLYmGDJxmEVB"
      },
      "source": [
        "#데이터과학특론\n",
        "2020-2학기 구정현"
      ]
    },
    {
      "cell_type": "code",
      "metadata": {
        "colab": {
          "base_uri": "https://localhost:8080/"
        },
        "id": "erYyUPs-fXm6",
        "outputId": "82a61423-9e4c-4393-b58e-3e651d5f3d3c"
      },
      "source": [
        "!git clone https://github.com/picaku9/2020_2_data_final.git"
      ],
      "execution_count": 1,
      "outputs": [
        {
          "output_type": "stream",
          "text": [
            "Cloning into '2020_2_data_final'...\n",
            "remote: Enumerating objects: 494, done.\u001b[K\n",
            "remote: Counting objects: 100% (494/494), done.\u001b[K\n",
            "remote: Compressing objects: 100% (395/395), done.\u001b[K\n",
            "remote: Total 494 (delta 86), reused 456 (delta 61), pack-reused 0\u001b[K\n",
            "Receiving objects: 100% (494/494), 5.14 MiB | 16.59 MiB/s, done.\n",
            "Resolving deltas: 100% (86/86), done.\n"
          ],
          "name": "stdout"
        }
      ]
    },
    {
      "cell_type": "code",
      "metadata": {
        "colab": {
          "base_uri": "https://localhost:8080/"
        },
        "id": "HonXHLn0AsPw",
        "outputId": "abc55684-d146-4e86-cc6f-3dfd4a478a4a"
      },
      "source": [
        "pip install singleton_decorator"
      ],
      "execution_count": 2,
      "outputs": [
        {
          "output_type": "stream",
          "text": [
            "Collecting singleton_decorator\n",
            "  Downloading https://files.pythonhosted.org/packages/33/98/a8b5c919bee1152a9a1afd82014431f8db5882699754de50d1b3aba4d136/singleton-decorator-1.0.0.tar.gz\n",
            "Building wheels for collected packages: singleton-decorator\n",
            "  Building wheel for singleton-decorator (setup.py) ... \u001b[?25l\u001b[?25hdone\n",
            "  Created wheel for singleton-decorator: filename=singleton_decorator-1.0.0-cp36-none-any.whl size=3124 sha256=db2441dceb7af0322c912356905236e9f6d4c271261d9aa1a7b97ed9e9137b28\n",
            "  Stored in directory: /root/.cache/pip/wheels/ce/43/87/9c4d65e727c32931aca54674ccf4f204e664306fbb507bcbd2\n",
            "Successfully built singleton-decorator\n",
            "Installing collected packages: singleton-decorator\n",
            "Successfully installed singleton-decorator-1.0.0\n"
          ],
          "name": "stdout"
        }
      ]
    },
    {
      "cell_type": "code",
      "metadata": {
        "id": "7aO_es2Dntaw",
        "colab": {
          "base_uri": "https://localhost:8080/"
        },
        "outputId": "379a08cc-75c1-4ea2-ceb6-9ddb9369aab1"
      },
      "source": [
        "%tensorflow_version 1.x"
      ],
      "execution_count": 3,
      "outputs": [
        {
          "output_type": "stream",
          "text": [
            "TensorFlow 1.x selected.\n"
          ],
          "name": "stdout"
        }
      ]
    },
    {
      "cell_type": "code",
      "metadata": {
        "colab": {
          "base_uri": "https://localhost:8080/"
        },
        "id": "htM305uY8yJm",
        "outputId": "4998a71d-ceaa-4bec-87b9-b9aae462b924"
      },
      "source": [
        "pip install git+https://github.com/tensorflow/cleverhans.git#egg=cleverhans"
      ],
      "execution_count": 4,
      "outputs": [
        {
          "output_type": "stream",
          "text": [
            "Collecting cleverhans\n",
            "  Cloning https://github.com/tensorflow/cleverhans.git to /tmp/pip-install-c540bdd3/cleverhans\n",
            "  Running command git clone -q https://github.com/tensorflow/cleverhans.git /tmp/pip-install-c540bdd3/cleverhans\n",
            "Collecting nose\n",
            "\u001b[?25l  Downloading https://files.pythonhosted.org/packages/15/d8/dd071918c040f50fa1cf80da16423af51ff8ce4a0f2399b7bf8de45ac3d9/nose-1.3.7-py3-none-any.whl (154kB)\n",
            "\u001b[K     |████████████████████████████████| 163kB 6.7MB/s \n",
            "\u001b[?25hCollecting pycodestyle\n",
            "\u001b[?25l  Downloading https://files.pythonhosted.org/packages/10/5b/88879fb861ab79aef45c7e199cae3ef7af487b5603dcb363517a50602dd7/pycodestyle-2.6.0-py2.py3-none-any.whl (41kB)\n",
            "\u001b[K     |████████████████████████████████| 51kB 6.5MB/s \n",
            "\u001b[?25hRequirement already satisfied: scipy in /usr/local/lib/python3.6/dist-packages (from cleverhans) (1.4.1)\n",
            "Requirement already satisfied: matplotlib in /usr/local/lib/python3.6/dist-packages (from cleverhans) (3.2.2)\n",
            "Collecting mnist~=0.2\n",
            "  Downloading https://files.pythonhosted.org/packages/c6/c4/5db3bfe009f8d71f1d532bbadbd0ec203764bba3a469e4703a889db8e5e0/mnist-0.2.2-py2.py3-none-any.whl\n",
            "Requirement already satisfied: numpy in /usr/local/lib/python3.6/dist-packages (from cleverhans) (1.19.4)\n",
            "Requirement already satisfied: tensorflow-probability in /tensorflow-1.15.2/python3.6 (from cleverhans) (0.7.0)\n",
            "Requirement already satisfied: joblib in /usr/local/lib/python3.6/dist-packages (from cleverhans) (1.0.0)\n",
            "Requirement already satisfied: cycler>=0.10 in /usr/local/lib/python3.6/dist-packages (from matplotlib->cleverhans) (0.10.0)\n",
            "Requirement already satisfied: pyparsing!=2.0.4,!=2.1.2,!=2.1.6,>=2.0.1 in /usr/local/lib/python3.6/dist-packages (from matplotlib->cleverhans) (2.4.7)\n",
            "Requirement already satisfied: kiwisolver>=1.0.1 in /usr/local/lib/python3.6/dist-packages (from matplotlib->cleverhans) (1.3.1)\n",
            "Requirement already satisfied: python-dateutil>=2.1 in /usr/local/lib/python3.6/dist-packages (from matplotlib->cleverhans) (2.8.1)\n",
            "Requirement already satisfied: decorator in /usr/local/lib/python3.6/dist-packages (from tensorflow-probability->cleverhans) (4.4.2)\n",
            "Requirement already satisfied: six>=1.10.0 in /usr/local/lib/python3.6/dist-packages (from tensorflow-probability->cleverhans) (1.15.0)\n",
            "Requirement already satisfied: cloudpickle>=0.6.1 in /usr/local/lib/python3.6/dist-packages (from tensorflow-probability->cleverhans) (1.3.0)\n",
            "Building wheels for collected packages: cleverhans\n",
            "  Building wheel for cleverhans (setup.py) ... \u001b[?25l\u001b[?25hdone\n",
            "  Created wheel for cleverhans: filename=cleverhans-3.0.1-cp36-none-any.whl size=262573 sha256=84ff6ae0618c418e61a84624f35952d5896b35722ddff103a110daaf994a2566\n",
            "  Stored in directory: /tmp/pip-ephem-wheel-cache-muzxlf3k/wheels/6e/59/ec/723a6f654aaf62c8c40f0f0850fdf71a4948598697f56c3bfa\n",
            "Successfully built cleverhans\n",
            "Installing collected packages: nose, pycodestyle, mnist, cleverhans\n",
            "Successfully installed cleverhans-3.0.1 mnist-0.2.2 nose-1.3.7 pycodestyle-2.6.0\n"
          ],
          "name": "stdout"
        }
      ]
    },
    {
      "cell_type": "markdown",
      "metadata": {
        "id": "oOzgX__mwpF9"
      },
      "source": [
        "#Available\n",
        "\n",
        "##cleverhans\n",
        "###cleverhans_tutorial\n",
        "1. mnist_tutorial_jsma.py\n",
        "\n",
        "2. mnist_tutorial_blackbox.py\n",
        "\n",
        "<li>Test accuracy of oracle on adversarial examples generated using the substitute: 0.565989847715736\n",
        "\n",
        "\n",
        "##FAIL - 수정사항\n",
        "###jsma.script.py\n",
        "\n",
        "\n",
        "dataset.py -> from sklearn.model_selection import StratifiedShuffleSplit\n",
        "\n",
        "Drebin.py ->  scores = model_selection.cross_val_score(clf, features, labels, cv=5)\n",
        "from sklearn import svm, model_selection\n",
        "\n",
        "spsa.py -> delete addons\n",
        "\n",
        "ModelBasicCNN\n",
        "jsma_script.py -> from cleverhans.model_zoo.basic_cnn import ModelBasicCNN\n",
        "\n",
        "import pdb; pdb.set_trace()\n",
        "\n",
        "model.py -> tf.enable_eager_execution()"
      ]
    },
    {
      "cell_type": "code",
      "metadata": {
        "colab": {
          "base_uri": "https://localhost:8080/"
        },
        "id": "OExDuP6aAfoB",
        "outputId": "4e69072f-e7da-4d2f-d5e6-0777237b3501"
      },
      "source": [
        "%cd /content/2020_2_data_final/research"
      ],
      "execution_count": 5,
      "outputs": [
        {
          "output_type": "stream",
          "text": [
            "/content/2020_2_data_final/research\n"
          ],
          "name": "stdout"
        }
      ]
    },
    {
      "cell_type": "code",
      "metadata": {
        "id": "h5A_Vyns69bQ"
      },
      "source": [
        "%rm /usr/local/lib/python3.6/dist-packages/cleverhans/attacks/spsa.py\r\n",
        "%mv /content/2020_2_data_final/spsa.py /usr/local/lib/python3.6/dist-packages/cleverhans/attacks/spsa.py"
      ],
      "execution_count": 6,
      "outputs": []
    },
    {
      "cell_type": "code",
      "metadata": {
        "id": "OEn1VrnlgeWF"
      },
      "source": [
        "%rm /usr/local/lib/python3.6/dist-packages/cleverhans/attacks/attack.py\r\n",
        "%mv /content/2020_2_data_final/attack.py /usr/local/lib/python3.6/dist-packages/cleverhans/attacks/attack.py"
      ],
      "execution_count": 7,
      "outputs": []
    },
    {
      "cell_type": "code",
      "metadata": {
        "id": "IoCGviGvuU6m"
      },
      "source": [
        "#!python mnist_blackbox.py\r\n",
        "#!python mnist_tutorial_jsma.py\r\n",
        "#!python jsma_cleverhans.py\r\n",
        "#!python jsma_experiments.py\r\n",
        "#!python stingray_experiments.py\r\n",
        "#!python jsma_script.py"
      ],
      "execution_count": 8,
      "outputs": []
    },
    {
      "cell_type": "code",
      "metadata": {
        "id": "YcxY_OwxEs49",
        "colab": {
          "base_uri": "https://localhost:8080/"
        },
        "outputId": "b477efe6-1ed7-481b-fcd1-ef88e515c232"
      },
      "source": [
        "%cd /content/2020_2_data_final/fail"
      ],
      "execution_count": 9,
      "outputs": [
        {
          "output_type": "stream",
          "text": [
            "/content/2020_2_data_final/fail\n"
          ],
          "name": "stdout"
        }
      ]
    },
    {
      "cell_type": "code",
      "metadata": {
        "colab": {
          "base_uri": "https://localhost:8080/"
        },
        "id": "prltVJ3LN1WX",
        "outputId": "2556ca11-087a-4c59-c29e-6bc16bfed8ac"
      },
      "source": [
        "!python drebin_script.py"
      ],
      "execution_count": 10,
      "outputs": [
        {
          "output_type": "stream",
          "text": [
            "Traceback (most recent call last):\n",
            "  File \"drebin_script.py\", line 7, in <module>\n",
            "    from examples.stingray_experiments import StingRayUnconstrainedExperiment\n",
            "ModuleNotFoundError: No module named 'examples.stingray_experiments'\n"
          ],
          "name": "stdout"
        }
      ]
    },
    {
      "cell_type": "code",
      "metadata": {
        "colab": {
          "base_uri": "https://localhost:8080/"
        },
        "id": "65RXw4aYoWxv",
        "outputId": "e6163576-e03d-471e-b848-82e114c85d8e"
      },
      "source": [
        "import numpy as np\r\n",
        "import os\r\n",
        "import sys\r\n",
        "\r\n",
        "from testbed import testbed\r\n",
        "from jsma_experiments import JSMAUnconstrainedExperiment\r\n",
        "from stingray_experiments import StingRayUnconstrainedExperiment\r\n",
        "from cleverhans.utils_mnist import data_mnist\r\n",
        "from cleverhans.utils_tf import model_eval, model_argmax, model_train\r\n",
        "from dataset import Dataset\r\n",
        "import tensorflow as tf\r\n",
        "\r\n",
        "from cleverhans.loss import LossCrossEntropy\r\n",
        "from cleverhans.utils_mnist import data_mnist\r\n",
        "from cleverhans.utils_tf import train, model_eval, model_argmax\r\n",
        "from cleverhans.model_zoo.basic_cnn import ModelBasicCNN\r\n",
        "\r\n",
        "\r\n",
        "def one_hot_encoder(ys, nb_classes):\r\n",
        "    ohe_ys = []\r\n",
        "    for y in ys:\r\n",
        "        ohe_y = np.zeros(nb_classes)\r\n",
        "        ohe_y[y] = 1\r\n",
        "\r\n",
        "        ohe_ys.append(ohe_y)\r\n",
        "\r\n",
        "    return np.array(ohe_ys)\r\n",
        "\r\n",
        "class CNNModel:\r\n",
        "\r\n",
        "    def __init__(self,scope):\r\n",
        "        # Define input TF placeholder\r\n",
        "        self.scope = scope\r\n",
        "        self.reset()\r\n",
        "\r\n",
        "    def reset(self):\r\n",
        "        with tf.variable_scope(self.scope, reuse=tf.AUTO_REUSE):\r\n",
        "            self.sess = tf.get_default_session()\r\n",
        "            # Define input TF placeholder\r\n",
        "            self.x = tf.placeholder(tf.float32, shape=(None, 28, 28, 1))\r\n",
        "            self.y = tf.placeholder(tf.float32, shape=(None, 10))\r\n",
        "            self.model = ModelBasicCNN(self.scope, 10, 64)\r\n",
        "            self.preds = self.model.get_logits(self.x)\r\n",
        "            self.loss = LossCrossEntropy(self.model, smoothing=0.1)\r\n",
        "\r\n",
        "    def train(self, dataset):\r\n",
        "        train_params = {\r\n",
        "            'nb_epochs': 1,\r\n",
        "            'batch_size': 32,\r\n",
        "            'learning_rate': 1e-2\r\n",
        "        }\r\n",
        "        with tf.variable_scope(self.scope,reuse=tf.AUTO_REUSE):\r\n",
        "            self.sess.run(tf.global_variables_initializer())\r\n",
        "            train(self.sess, self.loss, self.x, self.y, dataset.x, dataset.y, args=train_params)\r\n",
        "\r\n",
        "    def test(self, dataset):\r\n",
        "        with tf.variable_scope(self.scope, reuse=tf.AUTO_REUSE):\r\n",
        "            eval_params = {'batch_size': 32}\r\n",
        "            accuracy = model_eval(self.sess, self.x, self.y, self.preds, dataset.x, dataset.y, args=eval_params)\r\n",
        "            print('Test accuracy on legitimate test examples: {0}'.format(accuracy))\r\n",
        "            return {'accuracy': accuracy}\r\n",
        "\r\n",
        "    def tf(self):\r\n",
        "        return self.model\r\n",
        "\r\n",
        "\r\n",
        "if __name__ == '__main__':\r\n",
        "        #with testbed() as tb:\r\n",
        "        tb = testbed()\r\n",
        "        with tb:\r\n",
        "          x_train, y_train, x_test, y_test = data_mnist()\r\n",
        "          sess = tf.InteractiveSession()\r\n",
        "\r\n",
        "          victim = CNNModel('victim')\r\n",
        "          surrogate = CNNModel('surrogate')\r\n",
        "\r\n",
        "          mnist = Dataset(np.append(x_train, x_test, axis=0), np.append(y_train, y_test, axis=0), train_pct=0.1)\r\n",
        "          tb.register_dataset(mnist)\r\n",
        "          tb.register_victim(victim)\r\n",
        "          tb.register_surrogate(surrogate)\r\n",
        "\r\n",
        "          e1 = JSMAUnconstrainedExperiment(['some_label'])\r\n",
        "          #e2 = JSMALimitedFeatureKnowledgeExperiment(border=4)\r\n",
        "          #e2 =  StingRayUnconstrainedExperiment(['some_label2'])\r\n",
        "          #tb.register_experiment(e2)\r\n",
        "          tb.run_experiments(runs=10, out_dir=os.path.join('output', 'jsma-FAIL'))\r\n"
      ],
      "execution_count": 22,
      "outputs": [
        {
          "output_type": "stream",
          "text": [
            "/usr/local/lib/python3.6/dist-packages/cleverhans/utils_mnist.py:32: UserWarning: cleverhans.utils_mnist is deprecrated and will be removed on or after 2019-03-26. Switch to cleverhans.dataset instead.\n",
            "  warnings.warn(utils_mnist_warning)\n",
            "/tensorflow-1.15.2/python3.6/tensorflow_core/python/client/session.py:1750: UserWarning: An interactive session is already active. This can cause out-of-memory errors in some cases. You must explicitly call `InteractiveSession.close()` to release resources held by the other session(s).\n",
            "  warnings.warn('An interactive session is already active. This can '\n"
          ],
          "name": "stderr"
        },
        {
          "output_type": "stream",
          "text": [
            "Using default preprocessor.\n",
            "Using default preprocessor inverse.\n",
            "No craft function set.\n",
            "Using default postporcessor.\n",
            "No apply function set.\n",
            "Using default target picker (i.e., indiscriminate attack).\n"
          ],
          "name": "stdout"
        },
        {
          "output_type": "stream",
          "text": [
            "/usr/local/lib/python3.6/dist-packages/cleverhans/utils_tf.py:112: UserWarning: This function is deprecated and will be removed on or after 2019-04-05. Switch to cleverhans.train.train.\n",
            "  warnings.warn(\"This function is deprecated and will be removed on or after\"\n",
            "/usr/local/lib/python3.6/dist-packages/cleverhans/loss.py:275: UserWarning: LossCrossEntropy is deprecated, switch to CrossEntropy. LossCrossEntropy may be removed on or after 2019-03-06.\n",
            "  warnings.warn(\"LossCrossEntropy is deprecated, switch to \"\n",
            "[INFO 2020-12-17 20:42:01,053 cleverhans] Epoch 0 took 19.374618530273438 seconds\n",
            "[INFO 2020-12-17 20:42:01,054 cleverhans] Completed model training.\n",
            "/usr/local/lib/python3.6/dist-packages/cleverhans/attacks/attack.py:36: UserWarning: Argument back to attack constructors is not needed anymore and will be removed on or after 2019-03-26. All attacks are implemented using TensorFlow.\n",
            "  warnings.warn(\"Argument back to attack constructors is not needed\"\n",
            "[INFO 2020-12-17 20:42:06,744 cleverhans] Constructing new graph for attack SaliencyMapMethod\n"
          ],
          "name": "stderr"
        },
        {
          "output_type": "stream",
          "text": [
            "Test accuracy on legitimate test examples: 0.9579285714285715\n"
          ],
          "name": "stdout"
        },
        {
          "output_type": "stream",
          "text": [
            "/usr/local/lib/python3.6/dist-packages/cleverhans/compat.py:22: UserWarning: <function reduce_sum_v1 at 0x7f54e206fb70> is deprecated. Switch to calling the equivalent function in tensorflow.  This function was originally needed as a compatibility layer for old versions of tensorflow,  but support for those versions has now been dropped.\n",
            "  warnings.warn(str(f) + \" is deprecated. Switch to calling the equivalent function in tensorflow. \"\n",
            "/usr/local/lib/python3.6/dist-packages/cleverhans/compat.py:22: UserWarning: <function reduce_max_v1 at 0x7f54e2073a60> is deprecated. Switch to calling the equivalent function in tensorflow.  This function was originally needed as a compatibility layer for old versions of tensorflow,  but support for those versions has now been dropped.\n",
            "  warnings.warn(str(f) + \" is deprecated. Switch to calling the equivalent function in tensorflow. \"\n",
            "/usr/local/lib/python3.6/dist-packages/cleverhans/compat.py:22: UserWarning: <function reduce_any_v1 at 0x7f54e2078048> is deprecated. Switch to calling the equivalent function in tensorflow.  This function was originally needed as a compatibility layer for old versions of tensorflow,  but support for those versions has now been dropped.\n",
            "  warnings.warn(str(f) + \" is deprecated. Switch to calling the equivalent function in tensorflow. \"\n",
            "/usr/local/lib/python3.6/dist-packages/cleverhans/utils_tf.py:112: UserWarning: This function is deprecated and will be removed on or after 2019-04-05. Switch to cleverhans.train.train.\n",
            "  warnings.warn(\"This function is deprecated and will be removed on or after\"\n",
            "/usr/local/lib/python3.6/dist-packages/cleverhans/loss.py:275: UserWarning: LossCrossEntropy is deprecated, switch to CrossEntropy. LossCrossEntropy may be removed on or after 2019-03-06.\n",
            "  warnings.warn(\"LossCrossEntropy is deprecated, switch to \"\n",
            "[INFO 2020-12-17 20:42:29,096 cleverhans] Epoch 0 took 19.75722026824951 seconds\n",
            "[INFO 2020-12-17 20:42:29,099 cleverhans] Completed model training.\n"
          ],
          "name": "stderr"
        },
        {
          "output_type": "stream",
          "text": [
            "Test accuracy on legitimate test examples: 0.958\n",
            "Test accuracy on legitimate test examples: 0.0\n",
            "Test accuracy on legitimate test examples: 0.0\n",
            "some_label\n",
            "Classifier: Surrogate.\n",
            "Performance: {'accuracy': 0.9579285714285715}\n",
            "Target info: {'target_instance': array([ True,  True,  True,  True,  True,  True,  True,  True, False,\n",
            "        True]), 'source_class': 0, 'target_class': 5}\n",
            "Classifier: Victim.\n",
            "Performance: {'accuracy': 0.958}\n",
            "Attack performance: {'surrogate_acc': {'accuracy': 0.0}, 'victim_acc': {'accuracy': 0.0}}\n"
          ],
          "name": "stdout"
        },
        {
          "output_type": "stream",
          "text": [
            "/usr/local/lib/python3.6/dist-packages/cleverhans/utils_tf.py:112: UserWarning: This function is deprecated and will be removed on or after 2019-04-05. Switch to cleverhans.train.train.\n",
            "  warnings.warn(\"This function is deprecated and will be removed on or after\"\n",
            "/usr/local/lib/python3.6/dist-packages/cleverhans/loss.py:275: UserWarning: LossCrossEntropy is deprecated, switch to CrossEntropy. LossCrossEntropy may be removed on or after 2019-03-06.\n",
            "  warnings.warn(\"LossCrossEntropy is deprecated, switch to \"\n",
            "[INFO 2020-12-17 20:42:55,674 cleverhans] Epoch 0 took 19.87187933921814 seconds\n",
            "[INFO 2020-12-17 20:42:55,675 cleverhans] Completed model training.\n",
            "/usr/local/lib/python3.6/dist-packages/cleverhans/attacks/attack.py:36: UserWarning: Argument back to attack constructors is not needed anymore and will be removed on or after 2019-03-26. All attacks are implemented using TensorFlow.\n",
            "  warnings.warn(\"Argument back to attack constructors is not needed\"\n",
            "[INFO 2020-12-17 20:43:01,481 cleverhans] Constructing new graph for attack SaliencyMapMethod\n"
          ],
          "name": "stderr"
        },
        {
          "output_type": "stream",
          "text": [
            "Test accuracy on legitimate test examples: 0.9574285714285714\n"
          ],
          "name": "stdout"
        },
        {
          "output_type": "stream",
          "text": [
            "/usr/local/lib/python3.6/dist-packages/cleverhans/compat.py:22: UserWarning: <function reduce_sum_v1 at 0x7f54e206fb70> is deprecated. Switch to calling the equivalent function in tensorflow.  This function was originally needed as a compatibility layer for old versions of tensorflow,  but support for those versions has now been dropped.\n",
            "  warnings.warn(str(f) + \" is deprecated. Switch to calling the equivalent function in tensorflow. \"\n",
            "/usr/local/lib/python3.6/dist-packages/cleverhans/compat.py:22: UserWarning: <function reduce_max_v1 at 0x7f54e2073a60> is deprecated. Switch to calling the equivalent function in tensorflow.  This function was originally needed as a compatibility layer for old versions of tensorflow,  but support for those versions has now been dropped.\n",
            "  warnings.warn(str(f) + \" is deprecated. Switch to calling the equivalent function in tensorflow. \"\n",
            "/usr/local/lib/python3.6/dist-packages/cleverhans/compat.py:22: UserWarning: <function reduce_any_v1 at 0x7f54e2078048> is deprecated. Switch to calling the equivalent function in tensorflow.  This function was originally needed as a compatibility layer for old versions of tensorflow,  but support for those versions has now been dropped.\n",
            "  warnings.warn(str(f) + \" is deprecated. Switch to calling the equivalent function in tensorflow. \"\n",
            "/usr/local/lib/python3.6/dist-packages/cleverhans/utils_tf.py:112: UserWarning: This function is deprecated and will be removed on or after 2019-04-05. Switch to cleverhans.train.train.\n",
            "  warnings.warn(\"This function is deprecated and will be removed on or after\"\n",
            "/usr/local/lib/python3.6/dist-packages/cleverhans/loss.py:275: UserWarning: LossCrossEntropy is deprecated, switch to CrossEntropy. LossCrossEntropy may be removed on or after 2019-03-06.\n",
            "  warnings.warn(\"LossCrossEntropy is deprecated, switch to \"\n",
            "[INFO 2020-12-17 20:43:23,588 cleverhans] Epoch 0 took 19.827340841293335 seconds\n",
            "[INFO 2020-12-17 20:43:23,589 cleverhans] Completed model training.\n"
          ],
          "name": "stderr"
        },
        {
          "output_type": "stream",
          "text": [
            "Test accuracy on legitimate test examples: 0.9631428571428572\n",
            "Test accuracy on legitimate test examples: 0.0\n",
            "Test accuracy on legitimate test examples: 0.0\n",
            "some_label\n",
            "Classifier: Surrogate.\n",
            "Performance: {'accuracy': 0.9574285714285714}\n",
            "Target info: {'target_instance': array([ True,  True,  True,  True,  True,  True,  True, False,  True,\n",
            "        True]), 'source_class': 0, 'target_class': 5}\n",
            "Classifier: Victim.\n",
            "Performance: {'accuracy': 0.9631428571428572}\n",
            "Attack performance: {'surrogate_acc': {'accuracy': 0.0}, 'victim_acc': {'accuracy': 0.0}}\n"
          ],
          "name": "stdout"
        },
        {
          "output_type": "stream",
          "text": [
            "/usr/local/lib/python3.6/dist-packages/cleverhans/utils_tf.py:112: UserWarning: This function is deprecated and will be removed on or after 2019-04-05. Switch to cleverhans.train.train.\n",
            "  warnings.warn(\"This function is deprecated and will be removed on or after\"\n",
            "/usr/local/lib/python3.6/dist-packages/cleverhans/loss.py:275: UserWarning: LossCrossEntropy is deprecated, switch to CrossEntropy. LossCrossEntropy may be removed on or after 2019-03-06.\n",
            "  warnings.warn(\"LossCrossEntropy is deprecated, switch to \"\n",
            "[INFO 2020-12-17 20:43:50,188 cleverhans] Epoch 0 took 19.756333351135254 seconds\n",
            "[INFO 2020-12-17 20:43:50,190 cleverhans] Completed model training.\n",
            "/usr/local/lib/python3.6/dist-packages/cleverhans/attacks/attack.py:36: UserWarning: Argument back to attack constructors is not needed anymore and will be removed on or after 2019-03-26. All attacks are implemented using TensorFlow.\n",
            "  warnings.warn(\"Argument back to attack constructors is not needed\"\n",
            "[INFO 2020-12-17 20:43:56,006 cleverhans] Constructing new graph for attack SaliencyMapMethod\n"
          ],
          "name": "stderr"
        },
        {
          "output_type": "stream",
          "text": [
            "Test accuracy on legitimate test examples: 0.9554285714285714\n"
          ],
          "name": "stdout"
        },
        {
          "output_type": "stream",
          "text": [
            "/usr/local/lib/python3.6/dist-packages/cleverhans/compat.py:22: UserWarning: <function reduce_sum_v1 at 0x7f54e206fb70> is deprecated. Switch to calling the equivalent function in tensorflow.  This function was originally needed as a compatibility layer for old versions of tensorflow,  but support for those versions has now been dropped.\n",
            "  warnings.warn(str(f) + \" is deprecated. Switch to calling the equivalent function in tensorflow. \"\n",
            "/usr/local/lib/python3.6/dist-packages/cleverhans/compat.py:22: UserWarning: <function reduce_max_v1 at 0x7f54e2073a60> is deprecated. Switch to calling the equivalent function in tensorflow.  This function was originally needed as a compatibility layer for old versions of tensorflow,  but support for those versions has now been dropped.\n",
            "  warnings.warn(str(f) + \" is deprecated. Switch to calling the equivalent function in tensorflow. \"\n",
            "/usr/local/lib/python3.6/dist-packages/cleverhans/compat.py:22: UserWarning: <function reduce_any_v1 at 0x7f54e2078048> is deprecated. Switch to calling the equivalent function in tensorflow.  This function was originally needed as a compatibility layer for old versions of tensorflow,  but support for those versions has now been dropped.\n",
            "  warnings.warn(str(f) + \" is deprecated. Switch to calling the equivalent function in tensorflow. \"\n",
            "/usr/local/lib/python3.6/dist-packages/cleverhans/utils_tf.py:112: UserWarning: This function is deprecated and will be removed on or after 2019-04-05. Switch to cleverhans.train.train.\n",
            "  warnings.warn(\"This function is deprecated and will be removed on or after\"\n",
            "/usr/local/lib/python3.6/dist-packages/cleverhans/loss.py:275: UserWarning: LossCrossEntropy is deprecated, switch to CrossEntropy. LossCrossEntropy may be removed on or after 2019-03-06.\n",
            "  warnings.warn(\"LossCrossEntropy is deprecated, switch to \"\n",
            "[INFO 2020-12-17 20:44:17,737 cleverhans] Epoch 0 took 19.561347246170044 seconds\n",
            "[INFO 2020-12-17 20:44:17,738 cleverhans] Completed model training.\n"
          ],
          "name": "stderr"
        },
        {
          "output_type": "stream",
          "text": [
            "Test accuracy on legitimate test examples: 0.9609285714285715\n",
            "Test accuracy on legitimate test examples: 0.0\n",
            "Test accuracy on legitimate test examples: 0.0\n",
            "some_label\n",
            "Classifier: Surrogate.\n",
            "Performance: {'accuracy': 0.9554285714285714}\n",
            "Target info: {'target_instance': array([ True,  True,  True,  True, False,  True,  True,  True,  True,\n",
            "        True]), 'source_class': 0, 'target_class': 5}\n",
            "Classifier: Victim.\n",
            "Performance: {'accuracy': 0.9609285714285715}\n",
            "Attack performance: {'surrogate_acc': {'accuracy': 0.0}, 'victim_acc': {'accuracy': 0.0}}\n"
          ],
          "name": "stdout"
        },
        {
          "output_type": "stream",
          "text": [
            "/usr/local/lib/python3.6/dist-packages/cleverhans/utils_tf.py:112: UserWarning: This function is deprecated and will be removed on or after 2019-04-05. Switch to cleverhans.train.train.\n",
            "  warnings.warn(\"This function is deprecated and will be removed on or after\"\n",
            "/usr/local/lib/python3.6/dist-packages/cleverhans/loss.py:275: UserWarning: LossCrossEntropy is deprecated, switch to CrossEntropy. LossCrossEntropy may be removed on or after 2019-03-06.\n",
            "  warnings.warn(\"LossCrossEntropy is deprecated, switch to \"\n",
            "[INFO 2020-12-17 20:44:43,794 cleverhans] Epoch 0 took 19.247989892959595 seconds\n",
            "[INFO 2020-12-17 20:44:43,795 cleverhans] Completed model training.\n",
            "/usr/local/lib/python3.6/dist-packages/cleverhans/attacks/attack.py:36: UserWarning: Argument back to attack constructors is not needed anymore and will be removed on or after 2019-03-26. All attacks are implemented using TensorFlow.\n",
            "  warnings.warn(\"Argument back to attack constructors is not needed\"\n",
            "[INFO 2020-12-17 20:44:49,494 cleverhans] Constructing new graph for attack SaliencyMapMethod\n"
          ],
          "name": "stderr"
        },
        {
          "output_type": "stream",
          "text": [
            "Test accuracy on legitimate test examples: 0.9547857142857142\n"
          ],
          "name": "stdout"
        },
        {
          "output_type": "stream",
          "text": [
            "/usr/local/lib/python3.6/dist-packages/cleverhans/compat.py:22: UserWarning: <function reduce_sum_v1 at 0x7f54e206fb70> is deprecated. Switch to calling the equivalent function in tensorflow.  This function was originally needed as a compatibility layer for old versions of tensorflow,  but support for those versions has now been dropped.\n",
            "  warnings.warn(str(f) + \" is deprecated. Switch to calling the equivalent function in tensorflow. \"\n",
            "/usr/local/lib/python3.6/dist-packages/cleverhans/compat.py:22: UserWarning: <function reduce_max_v1 at 0x7f54e2073a60> is deprecated. Switch to calling the equivalent function in tensorflow.  This function was originally needed as a compatibility layer for old versions of tensorflow,  but support for those versions has now been dropped.\n",
            "  warnings.warn(str(f) + \" is deprecated. Switch to calling the equivalent function in tensorflow. \"\n",
            "/usr/local/lib/python3.6/dist-packages/cleverhans/compat.py:22: UserWarning: <function reduce_any_v1 at 0x7f54e2078048> is deprecated. Switch to calling the equivalent function in tensorflow.  This function was originally needed as a compatibility layer for old versions of tensorflow,  but support for those versions has now been dropped.\n",
            "  warnings.warn(str(f) + \" is deprecated. Switch to calling the equivalent function in tensorflow. \"\n",
            "/usr/local/lib/python3.6/dist-packages/cleverhans/utils_tf.py:112: UserWarning: This function is deprecated and will be removed on or after 2019-04-05. Switch to cleverhans.train.train.\n",
            "  warnings.warn(\"This function is deprecated and will be removed on or after\"\n",
            "/usr/local/lib/python3.6/dist-packages/cleverhans/loss.py:275: UserWarning: LossCrossEntropy is deprecated, switch to CrossEntropy. LossCrossEntropy may be removed on or after 2019-03-06.\n",
            "  warnings.warn(\"LossCrossEntropy is deprecated, switch to \"\n",
            "[INFO 2020-12-17 20:45:11,415 cleverhans] Epoch 0 took 19.61685061454773 seconds\n",
            "[INFO 2020-12-17 20:45:11,417 cleverhans] Completed model training.\n"
          ],
          "name": "stderr"
        },
        {
          "output_type": "stream",
          "text": [
            "Test accuracy on legitimate test examples: 0.9540714285714286\n",
            "Test accuracy on legitimate test examples: 0.0\n",
            "Test accuracy on legitimate test examples: 0.3333333333333333\n",
            "some_label\n",
            "Classifier: Surrogate.\n",
            "Performance: {'accuracy': 0.9547857142857142}\n",
            "Target info: {'target_instance': array([False,  True,  True,  True,  True,  True,  True,  True,  True,\n",
            "        True]), 'source_class': 0, 'target_class': 5}\n",
            "Classifier: Victim.\n",
            "Performance: {'accuracy': 0.9540714285714286}\n",
            "Attack performance: {'surrogate_acc': {'accuracy': 0.0}, 'victim_acc': {'accuracy': 0.3333333333333333}}\n"
          ],
          "name": "stdout"
        },
        {
          "output_type": "stream",
          "text": [
            "/usr/local/lib/python3.6/dist-packages/cleverhans/utils_tf.py:112: UserWarning: This function is deprecated and will be removed on or after 2019-04-05. Switch to cleverhans.train.train.\n",
            "  warnings.warn(\"This function is deprecated and will be removed on or after\"\n",
            "/usr/local/lib/python3.6/dist-packages/cleverhans/loss.py:275: UserWarning: LossCrossEntropy is deprecated, switch to CrossEntropy. LossCrossEntropy may be removed on or after 2019-03-06.\n",
            "  warnings.warn(\"LossCrossEntropy is deprecated, switch to \"\n",
            "[INFO 2020-12-17 20:45:38,007 cleverhans] Epoch 0 took 19.649462461471558 seconds\n",
            "[INFO 2020-12-17 20:45:38,008 cleverhans] Completed model training.\n",
            "/usr/local/lib/python3.6/dist-packages/cleverhans/attacks/attack.py:36: UserWarning: Argument back to attack constructors is not needed anymore and will be removed on or after 2019-03-26. All attacks are implemented using TensorFlow.\n",
            "  warnings.warn(\"Argument back to attack constructors is not needed\"\n",
            "[INFO 2020-12-17 20:45:43,788 cleverhans] Constructing new graph for attack SaliencyMapMethod\n"
          ],
          "name": "stderr"
        },
        {
          "output_type": "stream",
          "text": [
            "Test accuracy on legitimate test examples: 0.9588571428571429\n"
          ],
          "name": "stdout"
        },
        {
          "output_type": "stream",
          "text": [
            "/usr/local/lib/python3.6/dist-packages/cleverhans/compat.py:22: UserWarning: <function reduce_sum_v1 at 0x7f54e206fb70> is deprecated. Switch to calling the equivalent function in tensorflow.  This function was originally needed as a compatibility layer for old versions of tensorflow,  but support for those versions has now been dropped.\n",
            "  warnings.warn(str(f) + \" is deprecated. Switch to calling the equivalent function in tensorflow. \"\n",
            "/usr/local/lib/python3.6/dist-packages/cleverhans/compat.py:22: UserWarning: <function reduce_max_v1 at 0x7f54e2073a60> is deprecated. Switch to calling the equivalent function in tensorflow.  This function was originally needed as a compatibility layer for old versions of tensorflow,  but support for those versions has now been dropped.\n",
            "  warnings.warn(str(f) + \" is deprecated. Switch to calling the equivalent function in tensorflow. \"\n",
            "/usr/local/lib/python3.6/dist-packages/cleverhans/compat.py:22: UserWarning: <function reduce_any_v1 at 0x7f54e2078048> is deprecated. Switch to calling the equivalent function in tensorflow.  This function was originally needed as a compatibility layer for old versions of tensorflow,  but support for those versions has now been dropped.\n",
            "  warnings.warn(str(f) + \" is deprecated. Switch to calling the equivalent function in tensorflow. \"\n",
            "/usr/local/lib/python3.6/dist-packages/cleverhans/utils_tf.py:112: UserWarning: This function is deprecated and will be removed on or after 2019-04-05. Switch to cleverhans.train.train.\n",
            "  warnings.warn(\"This function is deprecated and will be removed on or after\"\n",
            "/usr/local/lib/python3.6/dist-packages/cleverhans/loss.py:275: UserWarning: LossCrossEntropy is deprecated, switch to CrossEntropy. LossCrossEntropy may be removed on or after 2019-03-06.\n",
            "  warnings.warn(\"LossCrossEntropy is deprecated, switch to \"\n",
            "[INFO 2020-12-17 20:46:06,110 cleverhans] Epoch 0 took 19.626084327697754 seconds\n",
            "[INFO 2020-12-17 20:46:06,113 cleverhans] Completed model training.\n"
          ],
          "name": "stderr"
        },
        {
          "output_type": "stream",
          "text": [
            "Test accuracy on legitimate test examples: 0.9572142857142857\n",
            "Test accuracy on legitimate test examples: 0.0\n",
            "Test accuracy on legitimate test examples: 0.0\n",
            "some_label\n",
            "Classifier: Surrogate.\n",
            "Performance: {'accuracy': 0.9588571428571429}\n",
            "Target info: {'target_instance': array([False,  True,  True,  True,  True,  True,  True,  True,  True,\n",
            "        True]), 'source_class': 0, 'target_class': 5}\n",
            "Classifier: Victim.\n",
            "Performance: {'accuracy': 0.9572142857142857}\n",
            "Attack performance: {'surrogate_acc': {'accuracy': 0.0}, 'victim_acc': {'accuracy': 0.0}}\n"
          ],
          "name": "stdout"
        },
        {
          "output_type": "stream",
          "text": [
            "/usr/local/lib/python3.6/dist-packages/cleverhans/utils_tf.py:112: UserWarning: This function is deprecated and will be removed on or after 2019-04-05. Switch to cleverhans.train.train.\n",
            "  warnings.warn(\"This function is deprecated and will be removed on or after\"\n",
            "/usr/local/lib/python3.6/dist-packages/cleverhans/loss.py:275: UserWarning: LossCrossEntropy is deprecated, switch to CrossEntropy. LossCrossEntropy may be removed on or after 2019-03-06.\n",
            "  warnings.warn(\"LossCrossEntropy is deprecated, switch to \"\n",
            "[INFO 2020-12-17 20:46:32,774 cleverhans] Epoch 0 took 19.64501953125 seconds\n",
            "[INFO 2020-12-17 20:46:32,775 cleverhans] Completed model training.\n",
            "/usr/local/lib/python3.6/dist-packages/cleverhans/attacks/attack.py:36: UserWarning: Argument back to attack constructors is not needed anymore and will be removed on or after 2019-03-26. All attacks are implemented using TensorFlow.\n",
            "  warnings.warn(\"Argument back to attack constructors is not needed\"\n",
            "[INFO 2020-12-17 20:46:38,579 cleverhans] Constructing new graph for attack SaliencyMapMethod\n"
          ],
          "name": "stderr"
        },
        {
          "output_type": "stream",
          "text": [
            "Test accuracy on legitimate test examples: 0.9610714285714286\n"
          ],
          "name": "stdout"
        },
        {
          "output_type": "stream",
          "text": [
            "/usr/local/lib/python3.6/dist-packages/cleverhans/compat.py:22: UserWarning: <function reduce_sum_v1 at 0x7f54e206fb70> is deprecated. Switch to calling the equivalent function in tensorflow.  This function was originally needed as a compatibility layer for old versions of tensorflow,  but support for those versions has now been dropped.\n",
            "  warnings.warn(str(f) + \" is deprecated. Switch to calling the equivalent function in tensorflow. \"\n",
            "/usr/local/lib/python3.6/dist-packages/cleverhans/compat.py:22: UserWarning: <function reduce_max_v1 at 0x7f54e2073a60> is deprecated. Switch to calling the equivalent function in tensorflow.  This function was originally needed as a compatibility layer for old versions of tensorflow,  but support for those versions has now been dropped.\n",
            "  warnings.warn(str(f) + \" is deprecated. Switch to calling the equivalent function in tensorflow. \"\n",
            "/usr/local/lib/python3.6/dist-packages/cleverhans/compat.py:22: UserWarning: <function reduce_any_v1 at 0x7f54e2078048> is deprecated. Switch to calling the equivalent function in tensorflow.  This function was originally needed as a compatibility layer for old versions of tensorflow,  but support for those versions has now been dropped.\n",
            "  warnings.warn(str(f) + \" is deprecated. Switch to calling the equivalent function in tensorflow. \"\n",
            "/usr/local/lib/python3.6/dist-packages/cleverhans/utils_tf.py:112: UserWarning: This function is deprecated and will be removed on or after 2019-04-05. Switch to cleverhans.train.train.\n",
            "  warnings.warn(\"This function is deprecated and will be removed on or after\"\n",
            "/usr/local/lib/python3.6/dist-packages/cleverhans/loss.py:275: UserWarning: LossCrossEntropy is deprecated, switch to CrossEntropy. LossCrossEntropy may be removed on or after 2019-03-06.\n",
            "  warnings.warn(\"LossCrossEntropy is deprecated, switch to \"\n",
            "[INFO 2020-12-17 20:47:00,721 cleverhans] Epoch 0 took 19.593419551849365 seconds\n",
            "[INFO 2020-12-17 20:47:00,722 cleverhans] Completed model training.\n"
          ],
          "name": "stderr"
        },
        {
          "output_type": "stream",
          "text": [
            "Test accuracy on legitimate test examples: 0.9531428571428572\n",
            "Test accuracy on legitimate test examples: 0.0\n",
            "Test accuracy on legitimate test examples: 0.0\n",
            "some_label\n",
            "Classifier: Surrogate.\n",
            "Performance: {'accuracy': 0.9610714285714286}\n",
            "Target info: {'target_instance': array([ True,  True, False,  True,  True,  True,  True,  True,  True,\n",
            "        True]), 'source_class': 0, 'target_class': 5}\n",
            "Classifier: Victim.\n",
            "Performance: {'accuracy': 0.9531428571428572}\n",
            "Attack performance: {'surrogate_acc': {'accuracy': 0.0}, 'victim_acc': {'accuracy': 0.0}}\n"
          ],
          "name": "stdout"
        },
        {
          "output_type": "stream",
          "text": [
            "/usr/local/lib/python3.6/dist-packages/cleverhans/utils_tf.py:112: UserWarning: This function is deprecated and will be removed on or after 2019-04-05. Switch to cleverhans.train.train.\n",
            "  warnings.warn(\"This function is deprecated and will be removed on or after\"\n",
            "/usr/local/lib/python3.6/dist-packages/cleverhans/loss.py:275: UserWarning: LossCrossEntropy is deprecated, switch to CrossEntropy. LossCrossEntropy may be removed on or after 2019-03-06.\n",
            "  warnings.warn(\"LossCrossEntropy is deprecated, switch to \"\n",
            "[INFO 2020-12-17 20:47:27,518 cleverhans] Epoch 0 took 19.656338691711426 seconds\n",
            "[INFO 2020-12-17 20:47:27,519 cleverhans] Completed model training.\n",
            "/usr/local/lib/python3.6/dist-packages/cleverhans/attacks/attack.py:36: UserWarning: Argument back to attack constructors is not needed anymore and will be removed on or after 2019-03-26. All attacks are implemented using TensorFlow.\n",
            "  warnings.warn(\"Argument back to attack constructors is not needed\"\n",
            "[INFO 2020-12-17 20:47:33,414 cleverhans] Constructing new graph for attack SaliencyMapMethod\n"
          ],
          "name": "stderr"
        },
        {
          "output_type": "stream",
          "text": [
            "Test accuracy on legitimate test examples: 0.9504285714285714\n"
          ],
          "name": "stdout"
        },
        {
          "output_type": "stream",
          "text": [
            "/usr/local/lib/python3.6/dist-packages/cleverhans/compat.py:22: UserWarning: <function reduce_sum_v1 at 0x7f54e206fb70> is deprecated. Switch to calling the equivalent function in tensorflow.  This function was originally needed as a compatibility layer for old versions of tensorflow,  but support for those versions has now been dropped.\n",
            "  warnings.warn(str(f) + \" is deprecated. Switch to calling the equivalent function in tensorflow. \"\n",
            "/usr/local/lib/python3.6/dist-packages/cleverhans/compat.py:22: UserWarning: <function reduce_max_v1 at 0x7f54e2073a60> is deprecated. Switch to calling the equivalent function in tensorflow.  This function was originally needed as a compatibility layer for old versions of tensorflow,  but support for those versions has now been dropped.\n",
            "  warnings.warn(str(f) + \" is deprecated. Switch to calling the equivalent function in tensorflow. \"\n",
            "/usr/local/lib/python3.6/dist-packages/cleverhans/compat.py:22: UserWarning: <function reduce_any_v1 at 0x7f54e2078048> is deprecated. Switch to calling the equivalent function in tensorflow.  This function was originally needed as a compatibility layer for old versions of tensorflow,  but support for those versions has now been dropped.\n",
            "  warnings.warn(str(f) + \" is deprecated. Switch to calling the equivalent function in tensorflow. \"\n",
            "/usr/local/lib/python3.6/dist-packages/cleverhans/utils_tf.py:112: UserWarning: This function is deprecated and will be removed on or after 2019-04-05. Switch to cleverhans.train.train.\n",
            "  warnings.warn(\"This function is deprecated and will be removed on or after\"\n",
            "/usr/local/lib/python3.6/dist-packages/cleverhans/loss.py:275: UserWarning: LossCrossEntropy is deprecated, switch to CrossEntropy. LossCrossEntropy may be removed on or after 2019-03-06.\n",
            "  warnings.warn(\"LossCrossEntropy is deprecated, switch to \"\n",
            "[INFO 2020-12-17 20:47:55,677 cleverhans] Epoch 0 took 19.394851684570312 seconds\n",
            "[INFO 2020-12-17 20:47:55,678 cleverhans] Completed model training.\n"
          ],
          "name": "stderr"
        },
        {
          "output_type": "stream",
          "text": [
            "Test accuracy on legitimate test examples: 0.9493571428571429\n",
            "Test accuracy on legitimate test examples: 0.0\n",
            "Test accuracy on legitimate test examples: 0.0\n",
            "some_label\n",
            "Classifier: Surrogate.\n",
            "Performance: {'accuracy': 0.9504285714285714}\n",
            "Target info: {'target_instance': array([ True,  True,  True,  True,  True,  True,  True,  True,  True,\n",
            "       False]), 'source_class': 0, 'target_class': 5}\n",
            "Classifier: Victim.\n",
            "Performance: {'accuracy': 0.9493571428571429}\n",
            "Attack performance: {'surrogate_acc': {'accuracy': 0.0}, 'victim_acc': {'accuracy': 0.0}}\n"
          ],
          "name": "stdout"
        },
        {
          "output_type": "stream",
          "text": [
            "/usr/local/lib/python3.6/dist-packages/cleverhans/utils_tf.py:112: UserWarning: This function is deprecated and will be removed on or after 2019-04-05. Switch to cleverhans.train.train.\n",
            "  warnings.warn(\"This function is deprecated and will be removed on or after\"\n",
            "/usr/local/lib/python3.6/dist-packages/cleverhans/loss.py:275: UserWarning: LossCrossEntropy is deprecated, switch to CrossEntropy. LossCrossEntropy may be removed on or after 2019-03-06.\n",
            "  warnings.warn(\"LossCrossEntropy is deprecated, switch to \"\n",
            "[INFO 2020-12-17 20:48:22,828 cleverhans] Epoch 0 took 19.974291801452637 seconds\n",
            "[INFO 2020-12-17 20:48:22,829 cleverhans] Completed model training.\n",
            "/usr/local/lib/python3.6/dist-packages/cleverhans/attacks/attack.py:36: UserWarning: Argument back to attack constructors is not needed anymore and will be removed on or after 2019-03-26. All attacks are implemented using TensorFlow.\n",
            "  warnings.warn(\"Argument back to attack constructors is not needed\"\n",
            "[INFO 2020-12-17 20:48:28,763 cleverhans] Constructing new graph for attack SaliencyMapMethod\n"
          ],
          "name": "stderr"
        },
        {
          "output_type": "stream",
          "text": [
            "Test accuracy on legitimate test examples: 0.9605\n"
          ],
          "name": "stdout"
        },
        {
          "output_type": "stream",
          "text": [
            "/usr/local/lib/python3.6/dist-packages/cleverhans/compat.py:22: UserWarning: <function reduce_sum_v1 at 0x7f54e206fb70> is deprecated. Switch to calling the equivalent function in tensorflow.  This function was originally needed as a compatibility layer for old versions of tensorflow,  but support for those versions has now been dropped.\n",
            "  warnings.warn(str(f) + \" is deprecated. Switch to calling the equivalent function in tensorflow. \"\n",
            "/usr/local/lib/python3.6/dist-packages/cleverhans/compat.py:22: UserWarning: <function reduce_max_v1 at 0x7f54e2073a60> is deprecated. Switch to calling the equivalent function in tensorflow.  This function was originally needed as a compatibility layer for old versions of tensorflow,  but support for those versions has now been dropped.\n",
            "  warnings.warn(str(f) + \" is deprecated. Switch to calling the equivalent function in tensorflow. \"\n",
            "/usr/local/lib/python3.6/dist-packages/cleverhans/compat.py:22: UserWarning: <function reduce_any_v1 at 0x7f54e2078048> is deprecated. Switch to calling the equivalent function in tensorflow.  This function was originally needed as a compatibility layer for old versions of tensorflow,  but support for those versions has now been dropped.\n",
            "  warnings.warn(str(f) + \" is deprecated. Switch to calling the equivalent function in tensorflow. \"\n",
            "/usr/local/lib/python3.6/dist-packages/cleverhans/utils_tf.py:112: UserWarning: This function is deprecated and will be removed on or after 2019-04-05. Switch to cleverhans.train.train.\n",
            "  warnings.warn(\"This function is deprecated and will be removed on or after\"\n",
            "/usr/local/lib/python3.6/dist-packages/cleverhans/loss.py:275: UserWarning: LossCrossEntropy is deprecated, switch to CrossEntropy. LossCrossEntropy may be removed on or after 2019-03-06.\n",
            "  warnings.warn(\"LossCrossEntropy is deprecated, switch to \"\n",
            "[INFO 2020-12-17 20:48:51,125 cleverhans] Epoch 0 took 19.77894902229309 seconds\n",
            "[INFO 2020-12-17 20:48:51,126 cleverhans] Completed model training.\n"
          ],
          "name": "stderr"
        },
        {
          "output_type": "stream",
          "text": [
            "Test accuracy on legitimate test examples: 0.9556428571428571\n",
            "Test accuracy on legitimate test examples: 0.0\n",
            "Test accuracy on legitimate test examples: 0.0\n",
            "some_label\n",
            "Classifier: Surrogate.\n",
            "Performance: {'accuracy': 0.9605}\n",
            "Target info: {'target_instance': array([ True, False,  True,  True,  True,  True,  True,  True,  True,\n",
            "        True]), 'source_class': 0, 'target_class': 5}\n",
            "Classifier: Victim.\n",
            "Performance: {'accuracy': 0.9556428571428571}\n",
            "Attack performance: {'surrogate_acc': {'accuracy': 0.0}, 'victim_acc': {'accuracy': 0.0}}\n"
          ],
          "name": "stdout"
        },
        {
          "output_type": "stream",
          "text": [
            "/usr/local/lib/python3.6/dist-packages/cleverhans/utils_tf.py:112: UserWarning: This function is deprecated and will be removed on or after 2019-04-05. Switch to cleverhans.train.train.\n",
            "  warnings.warn(\"This function is deprecated and will be removed on or after\"\n",
            "/usr/local/lib/python3.6/dist-packages/cleverhans/loss.py:275: UserWarning: LossCrossEntropy is deprecated, switch to CrossEntropy. LossCrossEntropy may be removed on or after 2019-03-06.\n",
            "  warnings.warn(\"LossCrossEntropy is deprecated, switch to \"\n",
            "[INFO 2020-12-17 20:49:18,853 cleverhans] Epoch 0 took 20.14887285232544 seconds\n",
            "[INFO 2020-12-17 20:49:18,854 cleverhans] Completed model training.\n",
            "/usr/local/lib/python3.6/dist-packages/cleverhans/attacks/attack.py:36: UserWarning: Argument back to attack constructors is not needed anymore and will be removed on or after 2019-03-26. All attacks are implemented using TensorFlow.\n",
            "  warnings.warn(\"Argument back to attack constructors is not needed\"\n",
            "[INFO 2020-12-17 20:49:24,642 cleverhans] Constructing new graph for attack SaliencyMapMethod\n"
          ],
          "name": "stderr"
        },
        {
          "output_type": "stream",
          "text": [
            "Test accuracy on legitimate test examples: 0.9639285714285715\n"
          ],
          "name": "stdout"
        },
        {
          "output_type": "stream",
          "text": [
            "/usr/local/lib/python3.6/dist-packages/cleverhans/compat.py:22: UserWarning: <function reduce_sum_v1 at 0x7f54e206fb70> is deprecated. Switch to calling the equivalent function in tensorflow.  This function was originally needed as a compatibility layer for old versions of tensorflow,  but support for those versions has now been dropped.\n",
            "  warnings.warn(str(f) + \" is deprecated. Switch to calling the equivalent function in tensorflow. \"\n",
            "/usr/local/lib/python3.6/dist-packages/cleverhans/compat.py:22: UserWarning: <function reduce_max_v1 at 0x7f54e2073a60> is deprecated. Switch to calling the equivalent function in tensorflow.  This function was originally needed as a compatibility layer for old versions of tensorflow,  but support for those versions has now been dropped.\n",
            "  warnings.warn(str(f) + \" is deprecated. Switch to calling the equivalent function in tensorflow. \"\n",
            "/usr/local/lib/python3.6/dist-packages/cleverhans/compat.py:22: UserWarning: <function reduce_any_v1 at 0x7f54e2078048> is deprecated. Switch to calling the equivalent function in tensorflow.  This function was originally needed as a compatibility layer for old versions of tensorflow,  but support for those versions has now been dropped.\n",
            "  warnings.warn(str(f) + \" is deprecated. Switch to calling the equivalent function in tensorflow. \"\n",
            "/usr/local/lib/python3.6/dist-packages/cleverhans/utils_tf.py:112: UserWarning: This function is deprecated and will be removed on or after 2019-04-05. Switch to cleverhans.train.train.\n",
            "  warnings.warn(\"This function is deprecated and will be removed on or after\"\n",
            "/usr/local/lib/python3.6/dist-packages/cleverhans/loss.py:275: UserWarning: LossCrossEntropy is deprecated, switch to CrossEntropy. LossCrossEntropy may be removed on or after 2019-03-06.\n",
            "  warnings.warn(\"LossCrossEntropy is deprecated, switch to \"\n",
            "[INFO 2020-12-17 20:49:47,789 cleverhans] Epoch 0 took 20.104555130004883 seconds\n",
            "[INFO 2020-12-17 20:49:47,790 cleverhans] Completed model training.\n"
          ],
          "name": "stderr"
        },
        {
          "output_type": "stream",
          "text": [
            "Test accuracy on legitimate test examples: 0.9600714285714286\n",
            "Test accuracy on legitimate test examples: 0.0\n",
            "Test accuracy on legitimate test examples: 0.0\n",
            "some_label\n",
            "Classifier: Surrogate.\n",
            "Performance: {'accuracy': 0.9639285714285715}\n",
            "Target info: {'target_instance': array([ True,  True,  True,  True,  True,  True, False,  True,  True,\n",
            "        True]), 'source_class': 0, 'target_class': 5}\n",
            "Classifier: Victim.\n",
            "Performance: {'accuracy': 0.9600714285714286}\n",
            "Attack performance: {'surrogate_acc': {'accuracy': 0.0}, 'victim_acc': {'accuracy': 0.0}}\n"
          ],
          "name": "stdout"
        },
        {
          "output_type": "stream",
          "text": [
            "/usr/local/lib/python3.6/dist-packages/cleverhans/utils_tf.py:112: UserWarning: This function is deprecated and will be removed on or after 2019-04-05. Switch to cleverhans.train.train.\n",
            "  warnings.warn(\"This function is deprecated and will be removed on or after\"\n",
            "/usr/local/lib/python3.6/dist-packages/cleverhans/loss.py:275: UserWarning: LossCrossEntropy is deprecated, switch to CrossEntropy. LossCrossEntropy may be removed on or after 2019-03-06.\n",
            "  warnings.warn(\"LossCrossEntropy is deprecated, switch to \"\n",
            "[INFO 2020-12-17 20:50:15,111 cleverhans] Epoch 0 took 19.867311239242554 seconds\n",
            "[INFO 2020-12-17 20:50:15,112 cleverhans] Completed model training.\n",
            "/usr/local/lib/python3.6/dist-packages/cleverhans/attacks/attack.py:36: UserWarning: Argument back to attack constructors is not needed anymore and will be removed on or after 2019-03-26. All attacks are implemented using TensorFlow.\n",
            "  warnings.warn(\"Argument back to attack constructors is not needed\"\n",
            "[INFO 2020-12-17 20:50:21,046 cleverhans] Constructing new graph for attack SaliencyMapMethod\n"
          ],
          "name": "stderr"
        },
        {
          "output_type": "stream",
          "text": [
            "Test accuracy on legitimate test examples: 0.9517857142857142\n"
          ],
          "name": "stdout"
        },
        {
          "output_type": "stream",
          "text": [
            "/usr/local/lib/python3.6/dist-packages/cleverhans/compat.py:22: UserWarning: <function reduce_sum_v1 at 0x7f54e206fb70> is deprecated. Switch to calling the equivalent function in tensorflow.  This function was originally needed as a compatibility layer for old versions of tensorflow,  but support for those versions has now been dropped.\n",
            "  warnings.warn(str(f) + \" is deprecated. Switch to calling the equivalent function in tensorflow. \"\n",
            "/usr/local/lib/python3.6/dist-packages/cleverhans/compat.py:22: UserWarning: <function reduce_max_v1 at 0x7f54e2073a60> is deprecated. Switch to calling the equivalent function in tensorflow.  This function was originally needed as a compatibility layer for old versions of tensorflow,  but support for those versions has now been dropped.\n",
            "  warnings.warn(str(f) + \" is deprecated. Switch to calling the equivalent function in tensorflow. \"\n",
            "/usr/local/lib/python3.6/dist-packages/cleverhans/compat.py:22: UserWarning: <function reduce_any_v1 at 0x7f54e2078048> is deprecated. Switch to calling the equivalent function in tensorflow.  This function was originally needed as a compatibility layer for old versions of tensorflow,  but support for those versions has now been dropped.\n",
            "  warnings.warn(str(f) + \" is deprecated. Switch to calling the equivalent function in tensorflow. \"\n",
            "/usr/local/lib/python3.6/dist-packages/cleverhans/utils_tf.py:112: UserWarning: This function is deprecated and will be removed on or after 2019-04-05. Switch to cleverhans.train.train.\n",
            "  warnings.warn(\"This function is deprecated and will be removed on or after\"\n",
            "/usr/local/lib/python3.6/dist-packages/cleverhans/loss.py:275: UserWarning: LossCrossEntropy is deprecated, switch to CrossEntropy. LossCrossEntropy may be removed on or after 2019-03-06.\n",
            "  warnings.warn(\"LossCrossEntropy is deprecated, switch to \"\n",
            "[INFO 2020-12-17 20:50:43,601 cleverhans] Epoch 0 took 19.594019889831543 seconds\n",
            "[INFO 2020-12-17 20:50:43,602 cleverhans] Completed model training.\n"
          ],
          "name": "stderr"
        },
        {
          "output_type": "stream",
          "text": [
            "Test accuracy on legitimate test examples: 0.951\n",
            "Test accuracy on legitimate test examples: 0.0\n",
            "Test accuracy on legitimate test examples: 0.0\n",
            "some_label\n",
            "Classifier: Surrogate.\n",
            "Performance: {'accuracy': 0.9517857142857142}\n",
            "Target info: {'target_instance': array([ True,  True,  True,  True, False,  True,  True,  True,  True,\n",
            "        True]), 'source_class': 0, 'target_class': 5}\n",
            "Classifier: Victim.\n",
            "Performance: {'accuracy': 0.951}\n",
            "Attack performance: {'surrogate_acc': {'accuracy': 0.0}, 'victim_acc': {'accuracy': 0.0}}\n"
          ],
          "name": "stdout"
        }
      ]
    },
    {
      "cell_type": "code",
      "metadata": {
        "id": "tCww7h4Zw_Og"
      },
      "source": [
        ""
      ],
      "execution_count": 11,
      "outputs": []
    }
  ]
}