{
  "nbformat": 4,
  "nbformat_minor": 0,
  "metadata": {
    "colab": {
      "name": "data_final.ipynb",
      "provenance": [],
      "collapsed_sections": []
    },
    "kernelspec": {
      "name": "python3",
      "display_name": "Python 3"
    }
  },
  "cells": [
    {
      "cell_type": "markdown",
      "metadata": {
        "id": "iLYmGDJxmEVB"
      },
      "source": [
        "#데이터과학특론\n",
        "2020-2학기 구정현"
      ]
    },
    {
      "cell_type": "code",
      "metadata": {
        "colab": {
          "base_uri": "https://localhost:8080/"
        },
        "id": "erYyUPs-fXm6",
        "outputId": "482e2796-a683-4c19-ec8d-878a8f2f15fb"
      },
      "source": [
        "!git clone https://github.com/picaku9/2020_2_data_final.git"
      ],
      "execution_count": 1,
      "outputs": [
        {
          "output_type": "stream",
          "text": [
            "Cloning into '2020_2_data_final'...\n",
            "fatal: could not read Username for 'https://github.com': No such device or address\n"
          ],
          "name": "stdout"
        }
      ]
    },
    {
      "cell_type": "code",
      "metadata": {
        "colab": {
          "base_uri": "https://localhost:8080/"
        },
        "id": "To0EEiVwmC4O",
        "outputId": "32fda325-8a0e-477a-cb1a-f3abf50c83c2"
      },
      "source": [
        "!git clone https://github.com/sdsatumd/fail.git"
      ],
      "execution_count": 2,
      "outputs": [
        {
          "output_type": "stream",
          "text": [
            "Cloning into 'fail'...\n",
            "remote: Enumerating objects: 31, done.\u001b[K\n",
            "remote: Total 31 (delta 0), reused 0 (delta 0), pack-reused 31\u001b[K\n",
            "Unpacking objects: 100% (31/31), done.\n"
          ],
          "name": "stdout"
        }
      ]
    },
    {
      "cell_type": "code",
      "metadata": {
        "id": "7aO_es2Dntaw",
        "colab": {
          "base_uri": "https://localhost:8080/"
        },
        "outputId": "7571d930-9a2e-4d0c-fe28-cf0cc09f61a4"
      },
      "source": [
        "%tensorflow_version 1.x"
      ],
      "execution_count": 3,
      "outputs": [
        {
          "output_type": "stream",
          "text": [
            "TensorFlow 1.x selected.\n"
          ],
          "name": "stdout"
        }
      ]
    },
    {
      "cell_type": "code",
      "metadata": {
        "colab": {
          "base_uri": "https://localhost:8080/"
        },
        "id": "htM305uY8yJm",
        "outputId": "5507749f-93a4-4a21-f43f-09e0830eabda"
      },
      "source": [
        "pip install git+https://github.com/tensorflow/cleverhans.git#egg=cleverhans"
      ],
      "execution_count": 4,
      "outputs": [
        {
          "output_type": "stream",
          "text": [
            "Collecting cleverhans\n",
            "  Cloning https://github.com/tensorflow/cleverhans.git to /tmp/pip-install-nj35h2qo/cleverhans\n",
            "  Running command git clone -q https://github.com/tensorflow/cleverhans.git /tmp/pip-install-nj35h2qo/cleverhans\n",
            "Collecting nose\n",
            "\u001b[?25l  Downloading https://files.pythonhosted.org/packages/15/d8/dd071918c040f50fa1cf80da16423af51ff8ce4a0f2399b7bf8de45ac3d9/nose-1.3.7-py3-none-any.whl (154kB)\n",
            "\u001b[K     |████████████████████████████████| 163kB 4.0MB/s \n",
            "\u001b[?25hCollecting pycodestyle\n",
            "\u001b[?25l  Downloading https://files.pythonhosted.org/packages/10/5b/88879fb861ab79aef45c7e199cae3ef7af487b5603dcb363517a50602dd7/pycodestyle-2.6.0-py2.py3-none-any.whl (41kB)\n",
            "\u001b[K     |████████████████████████████████| 51kB 4.8MB/s \n",
            "\u001b[?25hRequirement already satisfied: scipy in /usr/local/lib/python3.6/dist-packages (from cleverhans) (1.4.1)\n",
            "Requirement already satisfied: matplotlib in /usr/local/lib/python3.6/dist-packages (from cleverhans) (3.2.2)\n",
            "Collecting mnist~=0.2\n",
            "  Downloading https://files.pythonhosted.org/packages/c6/c4/5db3bfe009f8d71f1d532bbadbd0ec203764bba3a469e4703a889db8e5e0/mnist-0.2.2-py2.py3-none-any.whl\n",
            "Requirement already satisfied: numpy in /usr/local/lib/python3.6/dist-packages (from cleverhans) (1.18.5)\n",
            "Requirement already satisfied: tensorflow-probability in /tensorflow-1.15.2/python3.6 (from cleverhans) (0.7.0)\n",
            "Requirement already satisfied: joblib in /usr/local/lib/python3.6/dist-packages (from cleverhans) (0.17.0)\n",
            "Requirement already satisfied: kiwisolver>=1.0.1 in /usr/local/lib/python3.6/dist-packages (from matplotlib->cleverhans) (1.3.1)\n",
            "Requirement already satisfied: python-dateutil>=2.1 in /usr/local/lib/python3.6/dist-packages (from matplotlib->cleverhans) (2.8.1)\n",
            "Requirement already satisfied: cycler>=0.10 in /usr/local/lib/python3.6/dist-packages (from matplotlib->cleverhans) (0.10.0)\n",
            "Requirement already satisfied: pyparsing!=2.0.4,!=2.1.2,!=2.1.6,>=2.0.1 in /usr/local/lib/python3.6/dist-packages (from matplotlib->cleverhans) (2.4.7)\n",
            "Requirement already satisfied: decorator in /usr/local/lib/python3.6/dist-packages (from tensorflow-probability->cleverhans) (4.4.2)\n",
            "Requirement already satisfied: cloudpickle>=0.6.1 in /usr/local/lib/python3.6/dist-packages (from tensorflow-probability->cleverhans) (1.3.0)\n",
            "Requirement already satisfied: six>=1.10.0 in /usr/local/lib/python3.6/dist-packages (from tensorflow-probability->cleverhans) (1.15.0)\n",
            "Building wheels for collected packages: cleverhans\n",
            "  Building wheel for cleverhans (setup.py) ... \u001b[?25l\u001b[?25hdone\n",
            "  Created wheel for cleverhans: filename=cleverhans-3.0.1-cp36-none-any.whl size=262570 sha256=b9c85942c98c38560fc4ffa884116d5727bc4988e86e5d76c41c6a19fad9ad01\n",
            "  Stored in directory: /tmp/pip-ephem-wheel-cache-6lvr5cb1/wheels/6e/59/ec/723a6f654aaf62c8c40f0f0850fdf71a4948598697f56c3bfa\n",
            "Successfully built cleverhans\n",
            "Installing collected packages: nose, pycodestyle, mnist, cleverhans\n",
            "Successfully installed cleverhans-3.0.1 mnist-0.2.2 nose-1.3.7 pycodestyle-2.6.0\n"
          ],
          "name": "stdout"
        }
      ]
    },
    {
      "cell_type": "markdown",
      "metadata": {
        "id": "oOzgX__mwpF9"
      },
      "source": [
        "#돌아가는 코드\n",
        "\n",
        "##cleverhans\n",
        "###cleverhans_tutorial\n",
        "1. mnist_tutorial_jsma.py\n",
        "\n",
        "2. mnist_tutorial_blackbox.py\n",
        "\n",
        "<li>Test accuracy of oracle on adversarial examples generated using the substitute: 0.565989847715736\n",
        "\n",
        "\n",
        "#FAIL - 수정사항\n",
        "###jsma.script.py\n",
        "\n",
        "\n",
        "dataset.py -> from sklearn.model_selection import StratifiedShuffleSplit\n",
        "\n",
        "Drebin.py ->  scores = model_selection.cross_val_score(clf, features, labels, cv=5)\n",
        "from sklearn import svm, model_selection\n",
        "\n",
        "spsa.py -> delete addons\n",
        "\n",
        "ModelBasicCNN\n",
        "jsma_script.py -> from cleverhans.model_zoo.basic_cnn import ModelBasicCNN\n",
        "\n",
        "import pdb; pdb.set_trace()\n",
        "\n",
        "model.py -> tf.enable_eager_execution()"
      ]
    },
    {
      "cell_type": "code",
      "metadata": {
        "colab": {
          "base_uri": "https://localhost:8080/"
        },
        "id": "OExDuP6aAfoB",
        "outputId": "97ca4abc-b9ef-4a54-8bb5-aac800d2818b"
      },
      "source": [
        "%cd fail"
      ],
      "execution_count": 5,
      "outputs": [
        {
          "output_type": "stream",
          "text": [
            "/content/fail\n"
          ],
          "name": "stdout"
        }
      ]
    },
    {
      "cell_type": "code",
      "metadata": {
        "colab": {
          "base_uri": "https://localhost:8080/"
        },
        "id": "HonXHLn0AsPw",
        "outputId": "9fb2dd5d-e754-4fc7-da64-5437e37a245c"
      },
      "source": [
        "pip install singleton_decorator"
      ],
      "execution_count": 6,
      "outputs": [
        {
          "output_type": "stream",
          "text": [
            "Collecting singleton_decorator\n",
            "  Downloading https://files.pythonhosted.org/packages/33/98/a8b5c919bee1152a9a1afd82014431f8db5882699754de50d1b3aba4d136/singleton-decorator-1.0.0.tar.gz\n",
            "Building wheels for collected packages: singleton-decorator\n",
            "  Building wheel for singleton-decorator (setup.py) ... \u001b[?25l\u001b[?25hdone\n",
            "  Created wheel for singleton-decorator: filename=singleton_decorator-1.0.0-cp36-none-any.whl size=3125 sha256=187705c7c7967c99fab055c348c5296c55215e9d3376af5306fd3c9523b45a11\n",
            "  Stored in directory: /root/.cache/pip/wheels/ce/43/87/9c4d65e727c32931aca54674ccf4f204e664306fbb507bcbd2\n",
            "Successfully built singleton-decorator\n",
            "Installing collected packages: singleton-decorator\n",
            "Successfully installed singleton-decorator-1.0.0\n"
          ],
          "name": "stdout"
        }
      ]
    },
    {
      "cell_type": "code",
      "metadata": {
        "id": "IoCGviGvuU6m",
        "colab": {
          "base_uri": "https://localhost:8080/",
          "height": 383
        },
        "outputId": "8d357979-407f-4b3e-c892-191847c56ddc"
      },
      "source": [
        "import numpy as np\r\n",
        "import os\r\n",
        "import sys\r\n",
        "\r\n",
        "from testbed import testbed\r\n",
        "from jsma_experiments import JSMAUnconstrainedExperiment\r\n",
        "from cleverhans.utils_mnist import data_mnist\r\n",
        "from cleverhans.utils_tf import model_eval, model_argmax, model_train\r\n",
        "from dataset import Dataset\r\n",
        "import tensorflow as tf\r\n",
        "\r\n",
        "from cleverhans.loss import LossCrossEntropy\r\n",
        "from cleverhans.utils_mnist import data_mnist\r\n",
        "from cleverhans.utils_tf import train, model_eval, model_argmax\r\n",
        "from cleverhans.model_zoo.basic_cnn import ModelBasicCNN\r\n",
        "\r\n",
        "\r\n",
        "def one_hot_encoder(ys, nb_classes):\r\n",
        "    ohe_ys = []\r\n",
        "    for y in ys:\r\n",
        "        ohe_y = np.zeros(nb_classes)\r\n",
        "        ohe_y[y] = 1\r\n",
        "\r\n",
        "        ohe_ys.append(ohe_y)\r\n",
        "\r\n",
        "    return np.array(ohe_ys)\r\n",
        "\r\n",
        "class CNNModel:\r\n",
        "\r\n",
        "    def __init__(self,scope):\r\n",
        "        # Define input TF placeholder\r\n",
        "        self.scope = scope\r\n",
        "        self.reset()\r\n",
        "\r\n",
        "    def reset(self):\r\n",
        "        with tf.variable_scope(self.scope, reuse=tf.AUTO_REUSE):\r\n",
        "            self.sess = tf.get_default_session()\r\n",
        "            # Define input TF placeholder\r\n",
        "            self.x = tf.placeholder(tf.float32, shape=(None, 28, 28, 1))\r\n",
        "            self.y = tf.placeholder(tf.float32, shape=(None, 10))\r\n",
        "            import pdb; pdb.set_trace()\r\n",
        "            self.model = ModelBasicCNN('model1', 10, 64)\r\n",
        "            self.preds = self.model.get_logits(self.x)\r\n",
        "            self.loss = LossCrossEntropy(self.model, smoothing=0.1)\r\n",
        "\r\n",
        "    def train(self, dataset):\r\n",
        "        train_params = {\r\n",
        "            'nb_epochs': 1,\r\n",
        "            'batch_size': 32,\r\n",
        "            'learning_rate': 1e-2\r\n",
        "        }\r\n",
        "        with tf.variable_scope(self.scope,reuse=tf.AUTO_REUSE):\r\n",
        "            self.sess.run(tf.global_variables_initializer())\r\n",
        "            train(self.sess, self.loss, self.x, self.y, dataset.x, dataset.y, args=train_params)\r\n",
        "\r\n",
        "    def test(self, dataset):\r\n",
        "        with tf.variable_scope(self.scope, reuse=tf.AUTO_REUSE):\r\n",
        "            eval_params = {'batch_size': 32}\r\n",
        "            accuracy = model_eval(self.sess, self.x, self.y, self.preds, dataset.x, dataset.y, args=eval_params)\r\n",
        "            print('Test accuracy on legitimate test examples: {0}'.format(accuracy))\r\n",
        "            return {'accuracy': accuracy}\r\n",
        "\r\n",
        "    def tf(self):\r\n",
        "        return self.model\r\n",
        "\r\n",
        "\r\n",
        "if __name__ == '__main__':\r\n",
        "        #with testbed() as tb:\r\n",
        "        tb = testbed()\r\n",
        "        x_train, y_train, x_test, y_test = data_mnist()\r\n",
        "        sess = tf.InteractiveSession()\r\n",
        "\r\n",
        "        victim = CNNModel('victim')\r\n",
        "        surrogate = CNNModel('surrogate')\r\n",
        "\r\n",
        "        mnist = Dataset(np.append(x_train, x_test, axis=0), np.append(y_train, y_test, axis=0), train_pct=0.1)\r\n",
        "        tb.register_dataset(mnist)\r\n",
        "        tb.register_victim(victim)\r\n",
        "        tb.register_surrogate(surrogate)\r\n",
        "\r\n",
        "        e1 = JSMAUnconstrainedExperiment(['some_label'])\r\n",
        "        # e2 = JSMALimitedFeatureKnowledgeExperiment(border=4)\r\n",
        "        tb.register_experiment(e1)\r\n",
        "\r\n",
        "        tb.run_experiments(runs=2, out_dir=os.path.join('output', 'jsma-FAIL'))\r\n"
      ],
      "execution_count": 7,
      "outputs": [
        {
          "output_type": "error",
          "ename": "ModuleNotFoundError",
          "evalue": "ignored",
          "traceback": [
            "\u001b[0;31m---------------------------------------------------------------------------\u001b[0m",
            "\u001b[0;31mModuleNotFoundError\u001b[0m                       Traceback (most recent call last)",
            "\u001b[0;32m<ipython-input-7-8dd89eaf63de>\u001b[0m in \u001b[0;36m<module>\u001b[0;34m()\u001b[0m\n\u001b[1;32m      4\u001b[0m \u001b[0;34m\u001b[0m\u001b[0m\n\u001b[1;32m      5\u001b[0m \u001b[0;32mfrom\u001b[0m \u001b[0mtestbed\u001b[0m \u001b[0;32mimport\u001b[0m \u001b[0mtestbed\u001b[0m\u001b[0;34m\u001b[0m\u001b[0;34m\u001b[0m\u001b[0m\n\u001b[0;32m----> 6\u001b[0;31m \u001b[0;32mfrom\u001b[0m \u001b[0mjsma_experiments\u001b[0m \u001b[0;32mimport\u001b[0m \u001b[0mJSMAUnconstrainedExperiment\u001b[0m\u001b[0;34m\u001b[0m\u001b[0;34m\u001b[0m\u001b[0m\n\u001b[0m\u001b[1;32m      7\u001b[0m \u001b[0;32mfrom\u001b[0m \u001b[0mcleverhans\u001b[0m\u001b[0;34m.\u001b[0m\u001b[0mutils_mnist\u001b[0m \u001b[0;32mimport\u001b[0m \u001b[0mdata_mnist\u001b[0m\u001b[0;34m\u001b[0m\u001b[0;34m\u001b[0m\u001b[0m\n\u001b[1;32m      8\u001b[0m \u001b[0;32mfrom\u001b[0m \u001b[0mcleverhans\u001b[0m\u001b[0;34m.\u001b[0m\u001b[0mutils_tf\u001b[0m \u001b[0;32mimport\u001b[0m \u001b[0mmodel_eval\u001b[0m\u001b[0;34m,\u001b[0m \u001b[0mmodel_argmax\u001b[0m\u001b[0;34m,\u001b[0m \u001b[0mmodel_train\u001b[0m\u001b[0;34m\u001b[0m\u001b[0;34m\u001b[0m\u001b[0m\n",
            "\u001b[0;31mModuleNotFoundError\u001b[0m: No module named 'jsma_experiments'",
            "",
            "\u001b[0;31m---------------------------------------------------------------------------\u001b[0;32m\nNOTE: If your import is failing due to a missing package, you can\nmanually install dependencies using either !pip or !apt.\n\nTo view examples of installing some common dependencies, click the\n\"Open Examples\" button below.\n\u001b[0;31m---------------------------------------------------------------------------\u001b[0m\n"
          ]
        }
      ]
    },
    {
      "cell_type": "code",
      "metadata": {
        "id": "YcxY_OwxEs49"
      },
      "source": [
        ""
      ],
      "execution_count": null,
      "outputs": []
    }
  ]
}