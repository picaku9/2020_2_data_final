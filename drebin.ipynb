{
  "nbformat": 4,
  "nbformat_minor": 0,
  "metadata": {
    "colab": {
      "name": "Untitled0.ipynb",
      "provenance": [],
      "toc_visible": true
    },
    "kernelspec": {
      "name": "python2",
      "display_name": "Python 2"
    }
  },
  "cells": [
    {
      "cell_type": "code",
      "metadata": {
        "colab": {
          "base_uri": "https://localhost:8080/"
        },
        "id": "dE9Frwao2OAG",
        "outputId": "f18a6864-cece-4678-f452-6e9e64007ca0"
      },
      "source": [
        "!git clone https://github.com/picaku9/2020_2_data_final.git"
      ],
      "execution_count": null,
      "outputs": [
        {
          "output_type": "stream",
          "text": [
            "Cloning into '2020_2_data_final'...\n",
            "remote: Enumerating objects: 509, done.\u001b[K\n",
            "remote: Counting objects: 100% (509/509), done.\u001b[K\n",
            "remote: Compressing objects: 100% (402/402), done.\u001b[K\n",
            "remote: Total 509 (delta 93), reused 472 (delta 68), pack-reused 0\u001b[K\n",
            "Receiving objects: 100% (509/509), 5.21 MiB | 14.14 MiB/s, done.\n",
            "Resolving deltas: 100% (93/93), done.\n"
          ],
          "name": "stdout"
        }
      ]
    },
    {
      "cell_type": "code",
      "metadata": {
        "id": "5B0_fFVl29-U",
        "colab": {
          "base_uri": "https://localhost:8080/"
        },
        "outputId": "0552c40e-2398-42de-bdf6-5309d8e58d41"
      },
      "source": [
        "%cd 2020_2_data_final/DREBIN/drebin"
      ],
      "execution_count": 8,
      "outputs": [
        {
          "output_type": "stream",
          "text": [
            "[Errno 2] No such file or directory: '2020_2_data_final/DREBIN/drebin'\n",
            "/content/2020_2_data_final/DREBIN\n"
          ],
          "name": "stdout"
        }
      ]
    },
    {
      "cell_type": "code",
      "metadata": {
        "colab": {
          "base_uri": "https://localhost:8080/"
        },
        "id": "8H7ZanqrBOPI",
        "outputId": "721fce98-027b-4f30-ff17-d9c92894c196"
      },
      "source": [
        "!python -m pip install scikit-learn==0.18"
      ],
      "execution_count": 18,
      "outputs": [
        {
          "output_type": "stream",
          "text": [
            "Collecting scikit-learn==0.18\n",
            "\u001b[?25l  Downloading https://files.pythonhosted.org/packages/9a/51/4b2c24523ca21e9f3efadff99096067f1fdb20dd0b2a4582d68e63612a59/scikit_learn-0.18-cp27-cp27mu-manylinux1_x86_64.whl (11.4MB)\n",
            "\u001b[K     |████████████████████████████████| 11.4MB 298kB/s \n",
            "\u001b[31mERROR: fancyimpute 0.4.3 has requirement scikit-learn>=0.19.1, but you'll have scikit-learn 0.18 which is incompatible.\u001b[0m\n",
            "\u001b[31mERROR: imbalanced-learn 0.4.3 has requirement scikit-learn>=0.20, but you'll have scikit-learn 0.18 which is incompatible.\u001b[0m\n",
            "\u001b[31mERROR: yellowbrick 0.9.1 has requirement scikit-learn>=0.20, but you'll have scikit-learn 0.18 which is incompatible.\u001b[0m\n",
            "\u001b[?25hInstalling collected packages: scikit-learn\n",
            "  Found existing installation: scikit-learn 0.20.3\n",
            "    Uninstalling scikit-learn-0.20.3:\n",
            "      Successfully uninstalled scikit-learn-0.20.3\n",
            "Successfully installed scikit-learn-0.18\n"
          ],
          "name": "stdout"
        }
      ]
    },
    {
      "cell_type": "code",
      "metadata": {
        "colab": {
          "base_uri": "https://localhost:8080/"
        },
        "id": "gBCIUtAbBWeX",
        "outputId": "dfed39ea-2b8e-473e-c82e-cc0a5c7d483b"
      },
      "source": [
        "!git clone https://github.com/MLDroid/drebin"
      ],
      "execution_count": 19,
      "outputs": [
        {
          "output_type": "stream",
          "text": [
            "Cloning into 'drebin'...\n",
            "remote: Enumerating objects: 596, done.\u001b[K\n",
            "remote: Total 596 (delta 0), reused 0 (delta 0), pack-reused 596\u001b[K\n",
            "Receiving objects: 100% (596/596), 19.20 MiB | 14.27 MiB/s, done.\n",
            "Resolving deltas: 100% (173/173), done.\n"
          ],
          "name": "stdout"
        }
      ]
    },
    {
      "cell_type": "code",
      "metadata": {
        "colab": {
          "base_uri": "https://localhost:8080/"
        },
        "id": "lHIzc2buBq9Y",
        "outputId": "8d729975-f293-4ad8-f48d-54599538619d"
      },
      "source": [
        "!python Main.py --holdout 0 --maldir \"/content/2020_2_data_final/DREBIN/mal/\" --gooddir \"/content/2020_2_data_final/DREBIN/benign/\""
      ],
      "execution_count": null,
      "outputs": [
        {
          "output_type": "stream",
          "text": [
            "/usr/local/lib/python2.7/dist-packages/sklearn/cross_validation.py:44: DeprecationWarning: This module was deprecated in version 0.18 in favor of the model_selection module into which all the refactored classes and functions are moved. Also note that the interface of the new CV iterators are different from that of this module. This module will be removed in 0.20.\n",
            "  \"This module will be removed in 0.20.\", DeprecationWarning)\n",
            "Start to process /content/2020_2_data_final/DREBIN/mal/000019911F02CB0DAAF281EB8F7ED3CF52CC8DB377816CA9B3E42C8AAA227F78.apk...\n",
            "Start to process /content/2020_2_data_final/DREBIN/mal/00001BA8BA487F59CE415766F02FAFB1F96308891B8480D0FE19AD4A7490E979.apk...\n"
          ],
          "name": "stdout"
        }
      ]
    },
    {
      "cell_type": "code",
      "metadata": {
        "colab": {
          "base_uri": "https://localhost:8080/"
        },
        "id": "waXlPS6AB45Y",
        "outputId": "f94b1610-d263-4d1a-ee6d-fce987f12cd8"
      },
      "source": [
        "!pwd"
      ],
      "execution_count": 22,
      "outputs": [
        {
          "output_type": "stream",
          "text": [
            "/content/2020_2_data_final/DREBIN/drebin/src\n"
          ],
          "name": "stdout"
        }
      ]
    },
    {
      "cell_type": "code",
      "metadata": {
        "id": "vISOe7OwCAPo"
      },
      "source": [
        ""
      ],
      "execution_count": null,
      "outputs": []
    }
  ]
}